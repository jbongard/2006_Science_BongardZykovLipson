{
  "nbformat": 4,
  "nbformat_minor": 0,
  "metadata": {
    "colab": {
      "provenance": [],
      "authorship_tag": "ABX9TyPHyHp8jpQ3RwA5L/i6TrbQ",
      "include_colab_link": true
    },
    "kernelspec": {
      "name": "python3",
      "display_name": "Python 3"
    },
    "language_info": {
      "name": "python"
    }
  },
  "cells": [
    {
      "cell_type": "markdown",
      "metadata": {
        "id": "view-in-github",
        "colab_type": "text"
      },
      "source": [
        "<a href=\"https://colab.research.google.com/github/jbongard/2006_Science_BongardZykovLipson/blob/master/PlugPlayNice.ipynb\" target=\"_parent\"><img src=\"https://colab.research.google.com/assets/colab-badge.svg\" alt=\"Open In Colab\"/></a>"
      ]
    },
    {
      "cell_type": "code",
      "source": [
        "%%capture\n",
        "pip install numpy matplotlib"
      ],
      "metadata": {
        "id": "wTEjdHeLG0dM"
      },
      "execution_count": 103,
      "outputs": []
    },
    {
      "cell_type": "code",
      "source": [
        "%%capture\n",
        "!rm *.png\n",
        "!rm *.mp4"
      ],
      "metadata": {
        "id": "NoSP3_CcTs9o"
      },
      "execution_count": 104,
      "outputs": []
    },
    {
      "cell_type": "code",
      "execution_count": null,
      "metadata": {
        "collapsed": true,
        "id": "jKkdu5hLGsXB"
      },
      "outputs": [],
      "source": [
        "%%capture\n",
        "import numpy as np\n",
        "import matplotlib.pyplot as plt\n",
        "from matplotlib.colors import LinearSegmentedColormap\n",
        "\n",
        "# ---------------------------------------------------------\n",
        "size = 100\n",
        "numFrames = 120\n",
        "hiddenLayerWidth = 8\n",
        "\n",
        "colors = ['blue', 'black']\n",
        "\n",
        "cmap = LinearSegmentedColormap.from_list('blue_black', colors)\n",
        "\n",
        "# ---------------------------------------------------------\n",
        "def Cosine(x):\n",
        "    return np.cos(x)\n",
        "\n",
        "def Create_CPPN():\n",
        "\n",
        "    weights = {\n",
        "        'w1': np.random.randn(3, hiddenLayerWidth),\n",
        "        'w2': np.random.randn(hiddenLayerWidth, hiddenLayerWidth),\n",
        "        'w3': np.random.randn(hiddenLayerWidth, hiddenLayerWidth),\n",
        "        'w4': np.random.randn(hiddenLayerWidth, 1)\n",
        "    }\n",
        "\n",
        "    return weights\n",
        "\n",
        "def Evaluate(x,y,t,cppn):\n",
        "\n",
        "  inputs = np.stack([x, y, t], axis=-1)\n",
        "\n",
        "  hidden1 = np.dot(inputs, cppn['w1'])\n",
        "  hidden1 = Sigmoid(hidden1)\n",
        "\n",
        "  hidden2 = np.dot(hidden1, cppn['w2'])\n",
        "  hidden2 = Sine(hidden2)\n",
        "\n",
        "  hidden3 = np.dot(hidden2, cppn['w3'])\n",
        "  hidden3 = Cosine(hidden3)\n",
        "\n",
        "  output = np.dot(hidden3, cppn['w4'])\n",
        "  output = Gaussian(output)\n",
        "\n",
        "  return output[0]\n",
        "\n",
        "def Gaussian(x):\n",
        "    return np.exp(-np.power(x, 2))\n",
        "\n",
        "def Paint_Frame(t,cppn):\n",
        "\n",
        "  X = np.linspace(-1, 1, size)\n",
        "  Y = np.linspace(-1, 1, size)\n",
        "\n",
        "  output = np.zeros([len(X), len(Y)])\n",
        "\n",
        "  for i in range(0,len(X)):\n",
        "    for j in range(0,len(Y)):\n",
        "      output[i,j] = Evaluate(X[i],Y[j],t,cppn)\n",
        "\n",
        "  return(output)\n",
        "\n",
        "def Paint_Movie(cppn):\n",
        "\n",
        "  for t in range(1,numFrames + 1):\n",
        "    frame = Paint_Frame(t,cppn)\n",
        "    plt.imshow(frame, cmap=cmap)\n",
        "    plt.axis('off')\n",
        "    plt.savefig('frame'+str(t)+'.png')\n",
        "\n",
        "  return(frame)\n",
        "\n",
        "def Sigmoid(x):\n",
        "    return 1 / (1 + np.exp(-x))\n",
        "\n",
        "def Sine(x):\n",
        "    return np.sin(x)\n",
        "\n",
        "# -----------------------------------------------\n",
        "\n",
        "cppn = Create_CPPN()\n",
        "\n",
        "Paint_Movie(cppn)"
      ]
    },
    {
      "cell_type": "code",
      "source": [
        "%%capture\n",
        "!ffmpeg -i frame%d.png -c:v libx264 -pix_fmt yuv420p movie.mp4"
      ],
      "metadata": {
        "id": "wxWhCrQiK4Qj"
      },
      "execution_count": null,
      "outputs": []
    },
    {
      "cell_type": "code",
      "source": [
        "from IPython.display import HTML; from base64 import b64encode; mp4 = open('movie.mp4' , 'rb').read(); data_url = \"data:video/mp4;base64,\" + b64encode(mp4).decode(); HTML('<video width=250 controls> <source src=\"%s\" type=\"video/mp4\"></video>' % data_url); from google.colab import files; files.download('movie.mp4')"
      ],
      "metadata": {
        "id": "PkilQ0wxUQZ1"
      },
      "execution_count": null,
      "outputs": []
    }
  ]
}